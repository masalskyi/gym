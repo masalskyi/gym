{
 "cells": [
  {
   "cell_type": "code",
   "execution_count": 31,
   "metadata": {
    "pycharm": {
     "name": "#%%\n"
    }
   },
   "outputs": [],
   "source": [
    "import numpy as np\n",
    "import gym\n",
    "import random\n",
    "\n",
    "from rl.agents import DDPGAgent\n",
    "from rl.memory import SequentialMemory\n",
    "from rl.random import OrnsteinUhlenbeckProcess\n",
    "\n",
    "\n",
    "import tensorflow.keras.layers as layers\n",
    "from tensorflow.keras.optimizers import Adam\n",
    "from tensorflow.keras.models import Model"
   ]
  },
  {
   "cell_type": "code",
   "execution_count": 2,
   "metadata": {
    "pycharm": {
     "name": "#%%\n"
    }
   },
   "outputs": [
    {
     "name": "stderr",
     "output_type": "stream",
     "text": [
      "C:\\Users\\leff0\\anaconda3\\envs\\ml\\lib\\site-packages\\gym\\utils\\passive_env_checker.py:97: UserWarning: \u001B[33mWARN: We recommend you to use a symmetric and normalized Box action space (range=[-1, 1]) https://stable-baselines3.readthedocs.io/en/master/guide/rl_tips.html\u001B[0m\n",
      "  logger.warn(\n"
     ]
    }
   ],
   "source": [
    "env = gym.make('Pendulum-v1', g=9.81)"
   ]
  },
  {
   "cell_type": "code",
   "execution_count": 3,
   "metadata": {
    "pycharm": {
     "name": "#%%\n"
    }
   },
   "outputs": [
    {
     "data": {
      "text/plain": [
       "Box(-2.0, 2.0, (1,), float32)"
      ]
     },
     "execution_count": 3,
     "metadata": {},
     "output_type": "execute_result"
    }
   ],
   "source": [
    "env.action_space"
   ]
  },
  {
   "cell_type": "code",
   "execution_count": 4,
   "metadata": {
    "pycharm": {
     "name": "#%%\n"
    }
   },
   "outputs": [
    {
     "data": {
      "text/plain": [
       "Box([-1. -1. -8.], [1. 1. 8.], (3,), float32)"
      ]
     },
     "execution_count": 4,
     "metadata": {},
     "output_type": "execute_result"
    }
   ],
   "source": [
    "env.observation_space"
   ]
  },
  {
   "cell_type": "code",
   "execution_count": 6,
   "metadata": {
    "pycharm": {
     "name": "#%%\n"
    }
   },
   "outputs": [
    {
     "name": "stdout",
     "output_type": "stream",
     "text": [
      "Episode 0: -1459.2110032050145\n",
      "Episode 1: -1801.1742549225742\n",
      "Episode 2: -813.9490472146578\n",
      "Episode 3: -1306.1234088164608\n",
      "Episode 4: -1070.2868405347342\n",
      "Episode 5: -1729.1463001628993\n",
      "Episode 6: -880.0270921625812\n",
      "Episode 7: -971.8364744874998\n",
      "Episode 8: -1381.880612433597\n",
      "Episode 9: -816.6357347031828\n",
      "Episode 10: -1395.1626295431997\n",
      "Episode 11: -1273.873835101292\n",
      "Episode 12: -780.5112547639702\n",
      "Episode 13: -1387.6843605455756\n",
      "Episode 14: -1760.042964704504\n"
     ]
    }
   ],
   "source": [
    "import pygame\n",
    "episodes = 15\n",
    "for episode in range(episodes):\n",
    "    state = env.reset()\n",
    "    done = False\n",
    "    score = 0\n",
    "    while not done:\n",
    "        env.render()\n",
    "        action = random.random()*2-1\n",
    "        n_state, reward, done, info = env.step([action])\n",
    "        score += reward\n",
    "    print(\"Episode {}: {}\".format(episode, score))\n"
   ]
  },
  {
   "cell_type": "code",
   "execution_count": 7,
   "metadata": {
    "pycharm": {
     "name": "#%%\n"
    }
   },
   "outputs": [],
   "source": []
  },
  {
   "cell_type": "code",
   "execution_count": 54,
   "metadata": {
    "pycharm": {
     "name": "#%%\n"
    }
   },
   "outputs": [],
   "source": [
    "def build_agent_model(states, actions):\n",
    "    inputs = layers.Input(shape=(1, states))\n",
    "    x = layers.Dense(64, activation=\"relu\") (inputs)\n",
    "    x = layers.Dense(64, activation=\"relu\") (x)\n",
    "    x = layers.Flatten()(x)\n",
    "    outputs = layers.Dense(actions, activation=\"tanh\")(x)\n",
    "    outputs = 2 * outputs\n",
    "    return Model(inputs, outputs, name=\"pendulum_agent\")\n",
    "\n",
    "def build_critic_model(states, actions):\n",
    "    states_input = layers.Input(shape=(1, states), name=\"state_input\")\n",
    "    states_out = layers.Dense(64, activation=\"relu\")(states_input)\n",
    "    states_out = layers.Flatten()(states_out)\n",
    "\n",
    "    actions_input = layers.Input(shape=(actions), name=\"actions_input\")\n",
    "    actions_out = layers.Dense(64, activation=\"relu\")(actions_input)\n",
    "\n",
    "    x = layers.Concatenate()([states_out, actions_out])\n",
    "    x = layers.Dense(128,activation=\"relu\")(x)\n",
    "    x = layers.Dense(128,activation=\"relu\")(x)\n",
    "    output = layers.Dense(1, activation=\"linear\")(x)\n",
    "    return Model(inputs=[states_input, actions_input], outputs=output, name=\"pendulum_critic\"), actions_input"
   ]
  },
  {
   "cell_type": "code",
   "execution_count": 55,
   "metadata": {
    "pycharm": {
     "name": "#%%\n"
    }
   },
   "outputs": [],
   "source": [
    "agent = build_agent_model(3, 1)\n",
    "critic, actions_input = build_critic_model(3, 1)"
   ]
  },
  {
   "cell_type": "code",
   "execution_count": 56,
   "outputs": [
    {
     "name": "stdout",
     "output_type": "stream",
     "text": [
      "Model: \"pendulum_agent\"\n",
      "_________________________________________________________________\n",
      " Layer (type)                Output Shape              Param #   \n",
      "=================================================================\n",
      " input_18 (InputLayer)       [(None, 1, 3)]            0         \n",
      "                                                                 \n",
      " dense_51 (Dense)            (None, 1, 64)             256       \n",
      "                                                                 \n",
      " dense_52 (Dense)            (None, 1, 64)             4160      \n",
      "                                                                 \n",
      " flatten_8 (Flatten)         (None, 64)                0         \n",
      "                                                                 \n",
      " dense_53 (Dense)            (None, 1)                 65        \n",
      "                                                                 \n",
      " tf_op_layer_mul_135 (Tensor  [(None, 1)]              0         \n",
      " FlowOpLayer)                                                    \n",
      "                                                                 \n",
      "=================================================================\n",
      "Total params: 4,481\n",
      "Trainable params: 4,481\n",
      "Non-trainable params: 0\n",
      "_________________________________________________________________\n"
     ]
    }
   ],
   "source": [
    "agent.summary()"
   ],
   "metadata": {
    "collapsed": false,
    "pycharm": {
     "name": "#%%\n"
    }
   }
  },
  {
   "cell_type": "code",
   "execution_count": 57,
   "outputs": [
    {
     "name": "stdout",
     "output_type": "stream",
     "text": [
      "Model: \"pendulum_critic\"\n",
      "__________________________________________________________________________________________________\n",
      " Layer (type)                   Output Shape         Param #     Connected to                     \n",
      "==================================================================================================\n",
      " state_input (InputLayer)       [(None, 1, 3)]       0           []                               \n",
      "                                                                                                  \n",
      " dense_54 (Dense)               (None, 1, 64)        256         ['state_input[0][0]']            \n",
      "                                                                                                  \n",
      " actions_input (InputLayer)     [(None, 1)]          0           []                               \n",
      "                                                                                                  \n",
      " flatten_9 (Flatten)            (None, 64)           0           ['dense_54[0][0]']               \n",
      "                                                                                                  \n",
      " dense_55 (Dense)               (None, 64)           128         ['actions_input[0][0]']          \n",
      "                                                                                                  \n",
      " concatenate_7 (Concatenate)    (None, 128)          0           ['flatten_9[0][0]',              \n",
      "                                                                  'dense_55[0][0]']               \n",
      "                                                                                                  \n",
      " dense_56 (Dense)               (None, 128)          16512       ['concatenate_7[0][0]']          \n",
      "                                                                                                  \n",
      " dense_57 (Dense)               (None, 128)          16512       ['dense_56[0][0]']               \n",
      "                                                                                                  \n",
      " dense_58 (Dense)               (None, 1)            129         ['dense_57[0][0]']               \n",
      "                                                                                                  \n",
      "==================================================================================================\n",
      "Total params: 33,537\n",
      "Trainable params: 33,537\n",
      "Non-trainable params: 0\n",
      "__________________________________________________________________________________________________\n"
     ]
    }
   ],
   "source": [
    "critic.summary()"
   ],
   "metadata": {
    "collapsed": false,
    "pycharm": {
     "name": "#%%\n"
    }
   }
  },
  {
   "cell_type": "code",
   "execution_count": 58,
   "metadata": {
    "pycharm": {
     "name": "#%%\n"
    }
   },
   "outputs": [],
   "source": [
    "def build_agent(actions):\n",
    "    memory = SequentialMemory(limit=50000, window_length=1)\n",
    "    random_process = OrnsteinUhlenbeckProcess(size=actions, theta=.15, mu=0., sigma=.3)\n",
    "    dqn = DDPGAgent(actions, agent, critic, actions_input, memory, random_process= random_process)\n",
    "    return dqn"
   ]
  },
  {
   "cell_type": "code",
   "execution_count": 66,
   "metadata": {
    "pycharm": {
     "name": "#%%\n"
    }
   },
   "outputs": [],
   "source": [
    "dqn = build_agent(1)\n",
    "dqn.compile(Adam(learning_rate=1e-3), metrics=[\"mae\"])"
   ]
  },
  {
   "cell_type": "code",
   "execution_count": 67,
   "metadata": {
    "pycharm": {
     "name": "#%%\n"
    }
   },
   "outputs": [],
   "source": [
    "from callbacks import TrainEpisodeLogger, TrainIntervalLogger, TestLogger\n",
    "callbacks = [TrainEpisodeLogger()]"
   ]
  },
  {
   "cell_type": "code",
   "execution_count": 68,
   "metadata": {
    "pycharm": {
     "name": "#%%\n"
    }
   },
   "outputs": [
    {
     "name": "stdout",
     "output_type": "stream",
     "text": [
      "Training for 10000 steps ...\n"
     ]
    },
    {
     "name": "stderr",
     "output_type": "stream",
     "text": [
      "C:\\Users\\leff0\\anaconda3\\envs\\ml\\lib\\site-packages\\keras\\engine\\training_v1.py:2067: UserWarning: `Model.state_updates` will be removed in a future version. This property should not be used in TensorFlow 2.0, as `updates` are applied automatically.\n",
      "  updates=self.state_updates,\n"
     ]
    },
    {
     "name": "stdout",
     "output_type": "stream",
     "text": [
      "  200/10000: episode: 1, duration: 1.235s, episode steps: 200, steps per second: 162, episode reward: -121.863, mean reward: -0.609 [-12.155, -0.006], mean action: -0.630 [-2.618, 1.538], loss: --, mae: --, mean_q: --\n",
      "The reward is higher than the best one, saving checkpoint weights\n",
      "  400/10000: episode: 2, duration: 0.672s, episode steps: 200, steps per second: 298, episode reward: -369.862, mean reward: -1.849 [-14.181, -0.006], mean action: -0.006 [-1.781, 2.392], loss: --, mae: --, mean_q: --\n",
      "The reward is lower than the best one, checkpoint weights not updated\n",
      "  600/10000: episode: 3, duration: 0.620s, episode steps: 200, steps per second: 322, episode reward: -121.189, mean reward: -0.606 [-12.109, -0.006], mean action: -0.128 [-1.798, 2.523], loss: --, mae: --, mean_q: --\n",
      "The reward is higher than the best one, saving checkpoint weights\n",
      "  800/10000: episode: 4, duration: 0.667s, episode steps: 200, steps per second: 300, episode reward: -2.118, mean reward: -0.011 [-0.028, -0.007], mean action: -0.460 [-2.340, 1.790], loss: --, mae: --, mean_q: --\n",
      "The reward is higher than the best one, saving checkpoint weights\n",
      " 1000/10000: episode: 5, duration: 0.652s, episode steps: 200, steps per second: 307, episode reward: -253.049, mean reward: -1.265 [-12.566, -0.007], mean action: -0.488 [-2.567, 1.487], loss: --, mae: --, mean_q: --\n",
      "The reward is lower than the best one, checkpoint weights not updated\n"
     ]
    },
    {
     "name": "stderr",
     "output_type": "stream",
     "text": [
      "C:\\Users\\leff0\\anaconda3\\envs\\ml\\lib\\site-packages\\keras\\engine\\training_v1.py:2067: UserWarning: `Model.state_updates` will be removed in a future version. This property should not be used in TensorFlow 2.0, as `updates` are applied automatically.\n",
      "  updates=self.state_updates,\n"
     ]
    },
    {
     "name": "stdout",
     "output_type": "stream",
     "text": [
      " 1200/10000: episode: 6, duration: 6.645s, episode steps: 200, steps per second: 30, episode reward: -130.353, mean reward: -0.652 [-14.011, -0.005], mean action: -0.336 [-2.067, 2.121], loss: 0.312279, mae: 0.392920, mean_q: -9.272600\n",
      "The reward is lower than the best one, checkpoint weights not updated\n",
      " 1400/10000: episode: 7, duration: 4.838s, episode steps: 200, steps per second: 41, episode reward: -392.726, mean reward: -1.964 [-14.783, -0.005], mean action: 0.351 [-2.036, 2.291], loss: 0.269493, mae: 0.386166, mean_q: -11.210000\n",
      "The reward is lower than the best one, checkpoint weights not updated\n",
      " 1600/10000: episode: 8, duration: 4.878s, episode steps: 200, steps per second: 41, episode reward: -253.828, mean reward: -1.269 [-13.293, -0.003], mean action: -0.213 [-2.589, 1.490], loss: 0.230059, mae: 0.394338, mean_q: -12.881079\n",
      "The reward is lower than the best one, checkpoint weights not updated\n",
      " 1800/10000: episode: 9, duration: 5.288s, episode steps: 200, steps per second: 38, episode reward: -394.229, mean reward: -1.971 [-12.604, -0.000], mean action: -0.293 [-2.356, 1.851], loss: 0.285493, mae: 0.421326, mean_q: -15.040606\n",
      "The reward is lower than the best one, checkpoint weights not updated\n",
      " 2000/10000: episode: 10, duration: 4.773s, episode steps: 200, steps per second: 42, episode reward: -245.329, mean reward: -1.227 [-13.659, -0.000], mean action: 0.036 [-2.059, 1.862], loss: 0.317310, mae: 0.508264, mean_q: -14.817104\n",
      "The reward is lower than the best one, checkpoint weights not updated\n",
      " 2200/10000: episode: 11, duration: 4.692s, episode steps: 200, steps per second: 43, episode reward: -132.644, mean reward: -0.663 [-12.399, -0.001], mean action: -0.276 [-1.806, 2.311], loss: 0.210067, mae: 0.362852, mean_q: -14.634007\n",
      "The reward is lower than the best one, checkpoint weights not updated\n",
      " 2400/10000: episode: 12, duration: 4.651s, episode steps: 200, steps per second: 43, episode reward: -351.152, mean reward: -1.756 [-12.457, -0.001], mean action: -0.126 [-2.104, 2.029], loss: 0.222919, mae: 0.360873, mean_q: -15.665256\n",
      "The reward is lower than the best one, checkpoint weights not updated\n",
      " 2600/10000: episode: 13, duration: 4.620s, episode steps: 200, steps per second: 43, episode reward: -378.495, mean reward: -1.892 [-13.067, -0.001], mean action: -0.087 [-2.005, 2.172], loss: 0.235487, mae: 0.403931, mean_q: -16.773872\n",
      "The reward is lower than the best one, checkpoint weights not updated\n",
      " 2800/10000: episode: 14, duration: 4.646s, episode steps: 200, steps per second: 43, episode reward: -128.473, mean reward: -0.642 [-14.341, -0.001], mean action: -0.242 [-2.035, 2.009], loss: 0.238461, mae: 0.382248, mean_q: -15.163366\n",
      "The reward is lower than the best one, checkpoint weights not updated\n",
      " 3000/10000: episode: 15, duration: 4.900s, episode steps: 200, steps per second: 41, episode reward: -523.239, mean reward: -2.616 [-14.736, -0.001], mean action: -0.466 [-2.022, 2.504], loss: 0.510171, mae: 0.561080, mean_q: -17.396612\n",
      "The reward is lower than the best one, checkpoint weights not updated\n",
      " 3200/10000: episode: 16, duration: 4.972s, episode steps: 200, steps per second: 40, episode reward: -252.058, mean reward: -1.260 [-13.910, -0.002], mean action: 0.065 [-2.167, 2.009], loss: 0.277094, mae: 0.431912, mean_q: -17.897312\n",
      "The reward is lower than the best one, checkpoint weights not updated\n",
      " 3400/10000: episode: 17, duration: 4.808s, episode steps: 200, steps per second: 42, episode reward: -129.070, mean reward: -0.645 [-14.300, -0.002], mean action: -0.182 [-2.391, 1.683], loss: 0.283096, mae: 0.413620, mean_q: -16.579700\n",
      "The reward is lower than the best one, checkpoint weights not updated\n",
      " 3600/10000: episode: 18, duration: 4.816s, episode steps: 200, steps per second: 42, episode reward: -249.920, mean reward: -1.250 [-12.702, -0.002], mean action: -0.552 [-1.918, 2.118], loss: 0.362687, mae: 0.471367, mean_q: -17.345091\n",
      "The reward is lower than the best one, checkpoint weights not updated\n",
      " 3800/10000: episode: 19, duration: 4.757s, episode steps: 200, steps per second: 42, episode reward: -128.027, mean reward: -0.640 [-12.437, -0.002], mean action: -0.432 [-2.344, 1.723], loss: 0.257041, mae: 0.407276, mean_q: -15.985635\n",
      "The reward is lower than the best one, checkpoint weights not updated\n",
      " 4000/10000: episode: 20, duration: 4.796s, episode steps: 200, steps per second: 42, episode reward: -134.203, mean reward: -0.671 [-13.209, -0.003], mean action: -0.129 [-1.566, 2.643], loss: 0.541556, mae: 0.585253, mean_q: -16.015308\n",
      "The reward is lower than the best one, checkpoint weights not updated\n",
      " 4200/10000: episode: 21, duration: 4.767s, episode steps: 200, steps per second: 42, episode reward: -470.595, mean reward: -2.353 [-12.280, -0.002], mean action: -0.561 [-2.394, 1.798], loss: 0.382388, mae: 0.460580, mean_q: -16.703985\n",
      "The reward is lower than the best one, checkpoint weights not updated\n",
      " 4400/10000: episode: 22, duration: 4.713s, episode steps: 200, steps per second: 42, episode reward: -124.159, mean reward: -0.621 [-12.164, -0.003], mean action: 0.018 [-2.105, 1.910], loss: 0.291798, mae: 0.420320, mean_q: -16.619041\n",
      "The reward is lower than the best one, checkpoint weights not updated\n",
      " 4600/10000: episode: 23, duration: 5.031s, episode steps: 200, steps per second: 40, episode reward: -665.195, mean reward: -3.326 [-15.596, -0.003], mean action: -0.187 [-1.245, 3.589], loss: 0.380149, mae: 0.478907, mean_q: -17.041529\n",
      "The reward is lower than the best one, checkpoint weights not updated\n",
      " 4800/10000: episode: 24, duration: 4.594s, episode steps: 200, steps per second: 44, episode reward: -121.541, mean reward: -0.608 [-13.436, -0.000], mean action: -0.244 [-2.213, 1.488], loss: 2.351218, mae: 0.783586, mean_q: -17.095230\n",
      "The reward is lower than the best one, checkpoint weights not updated\n",
      " 5000/10000: episode: 25, duration: 4.705s, episode steps: 200, steps per second: 43, episode reward: -118.207, mean reward: -0.591 [-11.575, -0.000], mean action: -0.387 [-2.287, 0.855], loss: 1.318450, mae: 0.678441, mean_q: -17.096153\n",
      "The reward is lower than the best one, checkpoint weights not updated\n",
      " 5200/10000: episode: 26, duration: 4.834s, episode steps: 200, steps per second: 41, episode reward: -268.902, mean reward: -1.345 [-13.229, -0.000], mean action: -0.127 [-2.245, 1.795], loss: 0.354088, mae: 0.422862, mean_q: -16.984642\n",
      "The reward is lower than the best one, checkpoint weights not updated\n",
      " 5400/10000: episode: 27, duration: 4.972s, episode steps: 200, steps per second: 40, episode reward: -0.178, mean reward: -0.001 [-0.060, -0.000], mean action: -0.080 [-1.814, 0.364], loss: 0.299775, mae: 0.404296, mean_q: -15.767414\n",
      "The reward is higher than the best one, saving checkpoint weights\n",
      " 5600/10000: episode: 28, duration: 4.980s, episode steps: 200, steps per second: 40, episode reward: -233.618, mean reward: -1.168 [-12.034, -0.000], mean action: 0.008 [-2.126, 2.042], loss: 0.346974, mae: 0.451933, mean_q: -15.235029\n",
      "The reward is lower than the best one, checkpoint weights not updated\n",
      " 5800/10000: episode: 29, duration: 4.699s, episode steps: 200, steps per second: 43, episode reward: -127.711, mean reward: -0.639 [-14.633, -0.000], mean action: 0.040 [-1.951, 2.184], loss: 0.309557, mae: 0.409757, mean_q: -14.908601\n",
      "The reward is lower than the best one, checkpoint weights not updated\n",
      " 6000/10000: episode: 30, duration: 4.800s, episode steps: 200, steps per second: 42, episode reward: -124.069, mean reward: -0.620 [-13.240, -0.000], mean action: 0.133 [-2.127, 1.812], loss: 1.241853, mae: 0.618241, mean_q: -15.129286\n",
      "The reward is lower than the best one, checkpoint weights not updated\n",
      " 6200/10000: episode: 31, duration: 4.669s, episode steps: 200, steps per second: 43, episode reward: -120.814, mean reward: -0.604 [-13.489, -0.000], mean action: 0.126 [-1.685, 2.387], loss: 0.658673, mae: 0.545341, mean_q: -15.079887\n",
      "The reward is lower than the best one, checkpoint weights not updated\n",
      " 6400/10000: episode: 32, duration: 4.730s, episode steps: 200, steps per second: 42, episode reward: -3.690, mean reward: -0.018 [-0.209, -0.000], mean action: -0.231 [-1.521, 2.138], loss: 0.513126, mae: 0.531884, mean_q: -14.849232\n",
      "The reward is lower than the best one, checkpoint weights not updated\n",
      " 6600/10000: episode: 33, duration: 4.767s, episode steps: 200, steps per second: 42, episode reward: -267.123, mean reward: -1.336 [-12.484, -0.000], mean action: 0.083 [-2.155, 1.890], loss: 0.338216, mae: 0.439507, mean_q: -14.693142\n",
      "The reward is lower than the best one, checkpoint weights not updated\n",
      " 6800/10000: episode: 34, duration: 4.794s, episode steps: 200, steps per second: 42, episode reward: -123.922, mean reward: -0.620 [-14.109, -0.000], mean action: -0.514 [-1.434, 2.676], loss: 1.621322, mae: 0.742435, mean_q: -15.211321\n",
      "The reward is lower than the best one, checkpoint weights not updated\n",
      " 7000/10000: episode: 35, duration: 4.806s, episode steps: 200, steps per second: 42, episode reward: -131.358, mean reward: -0.657 [-12.570, -0.000], mean action: -0.260 [-1.612, 2.392], loss: 0.997905, mae: 0.502963, mean_q: -13.773572\n",
      "The reward is lower than the best one, checkpoint weights not updated\n",
      " 7200/10000: episode: 36, duration: 4.671s, episode steps: 200, steps per second: 43, episode reward: -125.091, mean reward: -0.625 [-11.520, -0.000], mean action: -0.450 [-2.052, 0.804], loss: 0.399994, mae: 0.469698, mean_q: -13.544633\n",
      "The reward is lower than the best one, checkpoint weights not updated\n",
      " 7400/10000: episode: 37, duration: 4.912s, episode steps: 200, steps per second: 41, episode reward: -122.583, mean reward: -0.613 [-14.215, -0.004], mean action: -0.566 [-1.742, 2.206], loss: 1.967177, mae: 0.742078, mean_q: -13.938774\n",
      "The reward is lower than the best one, checkpoint weights not updated\n",
      " 7600/10000: episode: 38, duration: 4.903s, episode steps: 200, steps per second: 41, episode reward: -128.468, mean reward: -0.642 [-12.986, -0.000], mean action: -0.143 [-1.782, 2.223], loss: 0.373009, mae: 0.452780, mean_q: -12.868755\n",
      "The reward is lower than the best one, checkpoint weights not updated\n",
      " 7800/10000: episode: 39, duration: 4.818s, episode steps: 200, steps per second: 42, episode reward: -124.331, mean reward: -0.622 [-14.387, -0.000], mean action: -0.036 [-2.271, 1.507], loss: 1.116109, mae: 0.601658, mean_q: -13.182754\n",
      "The reward is lower than the best one, checkpoint weights not updated\n",
      " 8000/10000: episode: 40, duration: 5.057s, episode steps: 200, steps per second: 40, episode reward: -360.007, mean reward: -1.800 [-13.595, -0.000], mean action: 0.122 [-1.861, 2.357], loss: 1.277257, mae: 0.572378, mean_q: -13.301068\n",
      "The reward is lower than the best one, checkpoint weights not updated\n",
      " 8200/10000: episode: 41, duration: 4.845s, episode steps: 200, steps per second: 41, episode reward: -247.196, mean reward: -1.236 [-14.866, -0.000], mean action: -0.282 [-1.888, 2.269], loss: 0.972422, mae: 0.582014, mean_q: -12.961365\n",
      "The reward is lower than the best one, checkpoint weights not updated\n",
      " 8400/10000: episode: 42, duration: 4.730s, episode steps: 200, steps per second: 42, episode reward: -126.642, mean reward: -0.633 [-12.811, -0.000], mean action: -0.290 [-1.812, 2.294], loss: 0.498112, mae: 0.484984, mean_q: -13.562216\n",
      "The reward is lower than the best one, checkpoint weights not updated\n",
      " 8600/10000: episode: 43, duration: 5.010s, episode steps: 200, steps per second: 40, episode reward: -126.734, mean reward: -0.634 [-15.275, -0.000], mean action: -0.153 [-2.198, 1.867], loss: 0.417386, mae: 0.418282, mean_q: -13.099412\n",
      "The reward is lower than the best one, checkpoint weights not updated\n",
      " 8800/10000: episode: 44, duration: 4.635s, episode steps: 200, steps per second: 43, episode reward: -4.842, mean reward: -0.024 [-0.407, -0.000], mean action: -0.429 [-1.877, 0.709], loss: 1.068699, mae: 0.574354, mean_q: -12.818302\n",
      "The reward is lower than the best one, checkpoint weights not updated\n",
      " 9000/10000: episode: 45, duration: 4.742s, episode steps: 200, steps per second: 42, episode reward: -0.139, mean reward: -0.001 [-0.010, -0.000], mean action: 0.108 [-1.112, 1.693], loss: 0.601079, mae: 0.541186, mean_q: -12.792325\n",
      "The reward is higher than the best one, saving checkpoint weights\n",
      " 9200/10000: episode: 46, duration: 5.003s, episode steps: 200, steps per second: 40, episode reward: -4.466, mean reward: -0.022 [-0.523, -0.000], mean action: 0.103 [-1.651, 2.326], loss: 1.019614, mae: 0.560327, mean_q: -12.050489\n",
      "The reward is lower than the best one, checkpoint weights not updated\n",
      " 9400/10000: episode: 47, duration: 4.936s, episode steps: 200, steps per second: 41, episode reward: -249.305, mean reward: -1.247 [-14.717, -0.000], mean action: -0.097 [-1.820, 2.543], loss: 1.142028, mae: 0.579416, mean_q: -11.596340\n",
      "The reward is lower than the best one, checkpoint weights not updated\n",
      " 9600/10000: episode: 48, duration: 5.206s, episode steps: 200, steps per second: 38, episode reward: -124.234, mean reward: -0.621 [-15.479, -0.000], mean action: 0.069 [-1.995, 2.053], loss: 1.080826, mae: 0.621143, mean_q: -13.547266\n",
      "The reward is lower than the best one, checkpoint weights not updated\n",
      " 9800/10000: episode: 49, duration: 4.777s, episode steps: 200, steps per second: 42, episode reward: -248.473, mean reward: -1.242 [-13.532, -0.011], mean action: -0.318 [-1.823, 2.293], loss: 0.498482, mae: 0.473735, mean_q: -12.876230\n",
      "The reward is lower than the best one, checkpoint weights not updated\n",
      " 10000/10000: episode: 50, duration: 5.069s, episode steps: 200, steps per second: 39, episode reward: -254.824, mean reward: -1.274 [-16.132, -0.003], mean action: -0.533 [-1.631, 2.429], loss: 1.049932, mae: 0.610138, mean_q: -11.789275\n",
      "The reward is lower than the best one, checkpoint weights not updated\n",
      "done, took 224.289 seconds\n"
     ]
    },
    {
     "data": {
      "text/plain": "<keras.callbacks.History at 0x1d59887ca90>"
     },
     "execution_count": 68,
     "metadata": {},
     "output_type": "execute_result"
    }
   ],
   "source": [
    "# dqn.fit(env,nb_steps=100000, visualize=False, verbose=1)\n",
    "dqn.fit(env,nb_steps=10000,visualize=False,verbose = 0, callbacks=callbacks, nb_max_episode_steps=1000)\n",
    "# dqn.fit(env,nb_steps=100000,visualize=False,verbose = 1,  nb_max_episode_steps=200)"
   ]
  },
  {
   "cell_type": "code",
   "execution_count": 27,
   "metadata": {
    "collapsed": true,
    "pycharm": {
     "name": "#%%\n"
    }
   },
   "outputs": [
    {
     "name": "stdout",
     "output_type": "stream",
     "text": [
      "Testing for 100 episodes ...\n",
      "Episode 1: reward: 500.000, steps: 500\n",
      "Episode 2: reward: 500.000, steps: 500\n",
      "Episode 3: reward: 500.000, steps: 500\n",
      "Episode 4: reward: 500.000, steps: 500\n",
      "Episode 5: reward: 500.000, steps: 500\n",
      "Episode 6: reward: 500.000, steps: 500\n",
      "Episode 7: reward: 500.000, steps: 500\n",
      "Episode 8: reward: 500.000, steps: 500\n",
      "Episode 9: reward: 500.000, steps: 500\n",
      "Episode 10: reward: 500.000, steps: 500\n",
      "Episode 11: reward: 500.000, steps: 500\n",
      "Episode 12: reward: 500.000, steps: 500\n",
      "Episode 13: reward: 500.000, steps: 500\n",
      "Episode 14: reward: 500.000, steps: 500\n",
      "Episode 15: reward: 500.000, steps: 500\n",
      "Episode 16: reward: 500.000, steps: 500\n",
      "Episode 17: reward: 500.000, steps: 500\n",
      "Episode 18: reward: 500.000, steps: 500\n",
      "Episode 19: reward: 500.000, steps: 500\n",
      "Episode 20: reward: 500.000, steps: 500\n",
      "Episode 21: reward: 500.000, steps: 500\n",
      "Episode 22: reward: 500.000, steps: 500\n",
      "Episode 23: reward: 500.000, steps: 500\n",
      "Episode 24: reward: 500.000, steps: 500\n",
      "Episode 25: reward: 500.000, steps: 500\n",
      "Episode 26: reward: 500.000, steps: 500\n",
      "Episode 27: reward: 500.000, steps: 500\n",
      "Episode 28: reward: 500.000, steps: 500\n",
      "Episode 29: reward: 500.000, steps: 500\n",
      "Episode 30: reward: 500.000, steps: 500\n",
      "Episode 31: reward: 500.000, steps: 500\n",
      "Episode 32: reward: 500.000, steps: 500\n",
      "Episode 33: reward: 500.000, steps: 500\n",
      "Episode 34: reward: 500.000, steps: 500\n",
      "Episode 35: reward: 500.000, steps: 500\n",
      "Episode 36: reward: 500.000, steps: 500\n",
      "Episode 37: reward: 500.000, steps: 500\n",
      "Episode 38: reward: 500.000, steps: 500\n",
      "Episode 39: reward: 500.000, steps: 500\n",
      "Episode 40: reward: 500.000, steps: 500\n",
      "Episode 41: reward: 500.000, steps: 500\n",
      "Episode 42: reward: 500.000, steps: 500\n",
      "Episode 43: reward: 500.000, steps: 500\n",
      "Episode 44: reward: 500.000, steps: 500\n",
      "Episode 45: reward: 500.000, steps: 500\n",
      "Episode 46: reward: 500.000, steps: 500\n",
      "Episode 47: reward: 500.000, steps: 500\n",
      "Episode 48: reward: 500.000, steps: 500\n",
      "Episode 49: reward: 500.000, steps: 500\n",
      "Episode 50: reward: 500.000, steps: 500\n",
      "Episode 51: reward: 500.000, steps: 500\n",
      "Episode 52: reward: 500.000, steps: 500\n",
      "Episode 53: reward: 500.000, steps: 500\n",
      "Episode 54: reward: 500.000, steps: 500\n",
      "Episode 55: reward: 500.000, steps: 500\n",
      "Episode 56: reward: 500.000, steps: 500\n",
      "Episode 57: reward: 500.000, steps: 500\n",
      "Episode 58: reward: 500.000, steps: 500\n",
      "Episode 59: reward: 500.000, steps: 500\n",
      "Episode 60: reward: 500.000, steps: 500\n",
      "Episode 61: reward: 500.000, steps: 500\n",
      "Episode 62: reward: 500.000, steps: 500\n",
      "Episode 63: reward: 500.000, steps: 500\n",
      "Episode 64: reward: 500.000, steps: 500\n",
      "Episode 65: reward: 500.000, steps: 500\n",
      "Episode 66: reward: 500.000, steps: 500\n",
      "Episode 67: reward: 500.000, steps: 500\n",
      "Episode 68: reward: 500.000, steps: 500\n",
      "Episode 69: reward: 500.000, steps: 500\n",
      "Episode 70: reward: 500.000, steps: 500\n",
      "Episode 71: reward: 500.000, steps: 500\n",
      "Episode 72: reward: 500.000, steps: 500\n",
      "Episode 73: reward: 500.000, steps: 500\n",
      "Episode 74: reward: 500.000, steps: 500\n",
      "Episode 75: reward: 500.000, steps: 500\n",
      "Episode 76: reward: 500.000, steps: 500\n",
      "Episode 77: reward: 500.000, steps: 500\n",
      "Episode 78: reward: 500.000, steps: 500\n",
      "Episode 79: reward: 500.000, steps: 500\n",
      "Episode 80: reward: 500.000, steps: 500\n",
      "Episode 81: reward: 500.000, steps: 500\n",
      "Episode 82: reward: 500.000, steps: 500\n",
      "Episode 83: reward: 500.000, steps: 500\n",
      "Episode 84: reward: 500.000, steps: 500\n",
      "Episode 85: reward: 500.000, steps: 500\n",
      "Episode 86: reward: 500.000, steps: 500\n",
      "Episode 87: reward: 500.000, steps: 500\n",
      "Episode 88: reward: 500.000, steps: 500\n",
      "Episode 89: reward: 500.000, steps: 500\n",
      "Episode 90: reward: 500.000, steps: 500\n",
      "Episode 91: reward: 500.000, steps: 500\n",
      "Episode 92: reward: 500.000, steps: 500\n",
      "Episode 93: reward: 500.000, steps: 500\n",
      "Episode 94: reward: 500.000, steps: 500\n",
      "Episode 95: reward: 500.000, steps: 500\n",
      "Episode 96: reward: 500.000, steps: 500\n",
      "Episode 97: reward: 500.000, steps: 500\n",
      "Episode 98: reward: 500.000, steps: 500\n",
      "Episode 99: reward: 500.000, steps: 500\n",
      "Episode 100: reward: 500.000, steps: 500\n"
     ]
    }
   ],
   "source": [
    "scores = dqn.test(env, nb_episodes=100, visualize=False)\n"
   ]
  },
  {
   "cell_type": "code",
   "execution_count": 69,
   "metadata": {
    "pycharm": {
     "name": "#%%\n"
    }
   },
   "outputs": [],
   "source": [
    "dqn.save_weights(\"./model/model.h5f\", overwrite=True)"
   ]
  },
  {
   "cell_type": "code",
   "execution_count": 16,
   "metadata": {
    "pycharm": {
     "name": "#%%\n"
    }
   },
   "outputs": [],
   "source": [
    "dqn.load_weights(\"./model/model.h5f\")\n"
   ]
  },
  {
   "cell_type": "code",
   "execution_count": 71,
   "metadata": {
    "pycharm": {
     "name": "#%%\n"
    }
   },
   "outputs": [
    {
     "name": "stdout",
     "output_type": "stream",
     "text": [
      "Testing for 3 episodes ...\n",
      "Episode 1: reward: -238.952, steps: 100\n",
      "Episode 2: reward: -342.503, steps: 100\n",
      "Episode 3: reward: -232.792, steps: 100\n"
     ]
    }
   ],
   "source": [
    "_ = dqn.test(env, nb_episodes=3, visualize=True,nb_max_episode_steps=100)"
   ]
  },
  {
   "cell_type": "code",
   "execution_count": null,
   "metadata": {
    "pycharm": {
     "name": "#%%\n"
    }
   },
   "outputs": [],
   "source": []
  }
 ],
 "metadata": {
  "kernelspec": {
   "display_name": "Python 3 (ipykernel)",
   "language": "python",
   "name": "python3"
  },
  "language_info": {
   "codemirror_mode": {
    "name": "ipython",
    "version": 3
   },
   "file_extension": ".py",
   "mimetype": "text/x-python",
   "name": "python",
   "nbconvert_exporter": "python",
   "pygments_lexer": "ipython3",
   "version": "3.8.13"
  }
 },
 "nbformat": 4,
 "nbformat_minor": 1
}